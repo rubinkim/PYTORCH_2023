{
 "cells": [
  {
   "cell_type": "code",
   "execution_count": 1,
   "id": "fb89ee1c",
   "metadata": {},
   "outputs": [
    {
     "name": "stdout",
     "output_type": "stream",
     "text": [
      "C:\\Users\\rubin\\anaconda3\\envs\\tf_gpu\\python.exe\n",
      "\n",
      "E:\\PYTORCH_2023\n",
      "C:\\Users\\rubin\\anaconda3\\envs\\tf_gpu\\python39.zip\n",
      "C:\\Users\\rubin\\anaconda3\\envs\\tf_gpu\\DLLs\n",
      "C:\\Users\\rubin\\anaconda3\\envs\\tf_gpu\\lib\n",
      "C:\\Users\\rubin\\anaconda3\\envs\\tf_gpu\n",
      "\n",
      "C:\\Users\\rubin\\anaconda3\\envs\\tf_gpu\\lib\\site-packages\n",
      "C:\\Users\\rubin\\anaconda3\\envs\\tf_gpu\\lib\\site-packages\\win32\n",
      "C:\\Users\\rubin\\anaconda3\\envs\\tf_gpu\\lib\\site-packages\\win32\\lib\n",
      "C:\\Users\\rubin\\anaconda3\\envs\\tf_gpu\\lib\\site-packages\\Pythonwin\n"
     ]
    }
   ],
   "source": [
    "import sys\n",
    "print(sys.executable)\n",
    "print()\n",
    "for p in sys.path:\n",
    "    print(p)"
   ]
  },
  {
   "cell_type": "code",
   "execution_count": 2,
   "id": "78e1bda2",
   "metadata": {},
   "outputs": [],
   "source": [
    "import numpy as np\n",
    "import pandas as pd\n",
    "import matplotlib.pyplot as plt\n",
    "import seaborn as sns\n",
    "import plotly.express as px\n",
    "\n",
    "import tensorflow as tf\n",
    "import torch"
   ]
  },
  {
   "cell_type": "code",
   "execution_count": null,
   "id": "8d79667d",
   "metadata": {},
   "outputs": [],
   "source": []
  }
 ],
 "metadata": {
  "kernelspec": {
   "display_name": "tf_gpu",
   "language": "python",
   "name": "tf_gpu"
  },
  "language_info": {
   "codemirror_mode": {
    "name": "ipython",
    "version": 3
   },
   "file_extension": ".py",
   "mimetype": "text/x-python",
   "name": "python",
   "nbconvert_exporter": "python",
   "pygments_lexer": "ipython3",
   "version": "3.9.13"
  }
 },
 "nbformat": 4,
 "nbformat_minor": 5
}
