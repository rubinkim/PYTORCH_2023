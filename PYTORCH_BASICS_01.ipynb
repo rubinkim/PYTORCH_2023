{
 "cells": [
  {
   "cell_type": "code",
   "execution_count": 4,
   "id": "2610b3c7",
   "metadata": {},
   "outputs": [
    {
     "name": "stdout",
     "output_type": "stream",
     "text": [
      "C:\\Users\\rubin\\anaconda3\\envs\\tf_gpu\\python.exe\n",
      "\n",
      "E:\\PYTORCH_2023\n",
      "C:\\Users\\rubin\\anaconda3\\envs\\tf_gpu\\python39.zip\n",
      "C:\\Users\\rubin\\anaconda3\\envs\\tf_gpu\\DLLs\n",
      "C:\\Users\\rubin\\anaconda3\\envs\\tf_gpu\\lib\n",
      "C:\\Users\\rubin\\anaconda3\\envs\\tf_gpu\n",
      "\n",
      "C:\\Users\\rubin\\anaconda3\\envs\\tf_gpu\\lib\\site-packages\n",
      "C:\\Users\\rubin\\anaconda3\\envs\\tf_gpu\\lib\\site-packages\\win32\n",
      "C:\\Users\\rubin\\anaconda3\\envs\\tf_gpu\\lib\\site-packages\\win32\\lib\n",
      "C:\\Users\\rubin\\anaconda3\\envs\\tf_gpu\\lib\\site-packages\\Pythonwin\n"
     ]
    }
   ],
   "source": [
    "import sys\n",
    "print(sys.executable)\n",
    "print()\n",
    "for p in sys.path:\n",
    "    print(p)"
   ]
  },
  {
   "cell_type": "code",
   "execution_count": 5,
   "id": "78e1bda2",
   "metadata": {},
   "outputs": [],
   "source": [
    "import numpy as np\n",
    "import pandas as pd\n",
    "import matplotlib.pyplot as plt\n",
    "import seaborn as sns\n",
    "import plotly.express as px\n",
    "\n",
    "import tensorflow as tf\n",
    "import torch"
   ]
  },
  {
   "cell_type": "code",
   "execution_count": 6,
   "id": "d49fbc8e",
   "metadata": {},
   "outputs": [
    {
     "name": "stdout",
     "output_type": "stream",
     "text": [
      "True\n"
     ]
    }
   ],
   "source": [
    "print(torch.cuda.is_available())"
   ]
  },
  {
   "cell_type": "code",
   "execution_count": 7,
   "id": "57357e0d",
   "metadata": {},
   "outputs": [
    {
     "data": {
      "text/plain": [
       "'1.13.0'"
      ]
     },
     "execution_count": 7,
     "metadata": {},
     "output_type": "execute_result"
    }
   ],
   "source": [
    "torch.__version__"
   ]
  },
  {
   "cell_type": "markdown",
   "id": "66d672bc",
   "metadata": {},
   "source": [
    "## 파이토치(Pytorch)\n",
    "\n",
    "- 페이스북이 초기 루아(Lua)언어로 개발된 토치(Torch)를 파이썬 버전으로 개발하여 2017년에 공개\n",
    "- 초기에 Torch는 Numpy 라이브러리처럼 과학 연산을 위한 라이브러리로 공개\n",
    "- 이후 병렬처리를 지원하는 GPU를 이용한 tensor조작 및 동적 신경망 구축이 가능하도록 Deep Learning Framework로 발전시킴\n",
    "- 파이썬답게 만들어졌고 유연하면서도 가속화된 계산 속도를 제공"
   ]
  },
  {
   "cell_type": "markdown",
   "id": "7f5e5050",
   "metadata": {},
   "source": [
    "## 파이토치의 구성요소\n",
    "\n",
    "- torch : 메인 네임스페이스, 텐서등의 다양한 수학 함수가 포함\n",
    "- torch.autograd : 자동 미분 기능을 제공하는 라이브러리\n",
    "- torch.nn : 신경망 구축을 위한 데이터 구조나 레이어 등의 라이브러리\n",
    "- torch.multiprocessing : 병렬처리 기능을 제공하는 라이브러리\n",
    "- torch.optim : SGD(Stochastic Gradient Descent)를 중심으로 한 파라미터 최적화 알고리즘 제공\n",
    "- torch.utils : 데이터 조작 등 유틸리티 기능 제공\n",
    "- torch.onnx : ONNX(Open Neural Network Exchange), 서로 다른 프레임워크 간의 모델을 공유할 때 사용"
   ]
  },
  {
   "cell_type": "markdown",
   "id": "dd043313",
   "metadata": {},
   "source": [
    "## 텐서(Tensors)\n",
    "\n",
    "- 데이터 표현을 위한 기본 구조로 텐서(tensor)를 이용\n",
    "- 텐서는 데이터를 담기 위한 container로서 일반적으로 수치형 데이터를 저장\n",
    "- Numpy의 ndarray와 유사\n",
    "- GPU를 사용한 연산 가속 가능\n",
    "\n",
    "    - 0D Tensor(Scalar) : Rank=0, Shape=()\n",
    "    - 1D Tensor(Vector) : Rank=1, Shape=(3,)\n",
    "    - 2D Tensor(Matrix) : Rank=2, Shape=(3,3)\n",
    "    - 3D Tensor         : Rank=3, Shape=(3,3,3)\n",
    "    - 4D Tensor         : Rank=4, Shape=(3,3,3,3)\n",
    "    - 5D Tensor         : Rank=5, Shape=(3,3,3,3,3)\n",
    "    - 6D Tensor         : Rank=6, Shape=(3,3,3,3,3,3)"
   ]
  },
  {
   "cell_type": "code",
   "execution_count": null,
   "id": "ad5f99fb",
   "metadata": {},
   "outputs": [],
   "source": []
  }
 ],
 "metadata": {
  "kernelspec": {
   "display_name": "tf_gpu",
   "language": "python",
   "name": "tf_gpu"
  },
  "language_info": {
   "codemirror_mode": {
    "name": "ipython",
    "version": 3
   },
   "file_extension": ".py",
   "mimetype": "text/x-python",
   "name": "python",
   "nbconvert_exporter": "python",
   "pygments_lexer": "ipython3",
   "version": "3.9.13"
  }
 },
 "nbformat": 4,
 "nbformat_minor": 5
}
