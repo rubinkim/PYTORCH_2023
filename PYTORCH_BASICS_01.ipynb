{
 "cells": [
  {
   "cell_type": "code",
   "execution_count": 1,
   "id": "2610b3c7",
   "metadata": {},
   "outputs": [
    {
     "name": "stdout",
     "output_type": "stream",
     "text": [
      "C:\\Users\\rubin\\anaconda3\\envs\\tf_gpu\\python.exe\n",
      "\n",
      "E:\\PYTORCH_2023\n",
      "C:\\Users\\rubin\\anaconda3\\envs\\tf_gpu\\python39.zip\n",
      "C:\\Users\\rubin\\anaconda3\\envs\\tf_gpu\\DLLs\n",
      "C:\\Users\\rubin\\anaconda3\\envs\\tf_gpu\\lib\n",
      "C:\\Users\\rubin\\anaconda3\\envs\\tf_gpu\n",
      "\n",
      "C:\\Users\\rubin\\anaconda3\\envs\\tf_gpu\\lib\\site-packages\n",
      "C:\\Users\\rubin\\anaconda3\\envs\\tf_gpu\\lib\\site-packages\\win32\n",
      "C:\\Users\\rubin\\anaconda3\\envs\\tf_gpu\\lib\\site-packages\\win32\\lib\n",
      "C:\\Users\\rubin\\anaconda3\\envs\\tf_gpu\\lib\\site-packages\\Pythonwin\n"
     ]
    }
   ],
   "source": [
    "import sys\n",
    "print(sys.executable)\n",
    "print()\n",
    "for p in sys.path:\n",
    "    print(p)"
   ]
  },
  {
   "cell_type": "code",
   "execution_count": 2,
   "id": "78e1bda2",
   "metadata": {},
   "outputs": [],
   "source": [
    "import numpy as np\n",
    "import pandas as pd\n",
    "import matplotlib.pyplot as plt\n",
    "import seaborn as sns\n",
    "import plotly.express as px\n",
    "\n",
    "import tensorflow as tf\n",
    "import torch"
   ]
  },
  {
   "cell_type": "code",
   "execution_count": 3,
   "id": "d49fbc8e",
   "metadata": {},
   "outputs": [
    {
     "name": "stdout",
     "output_type": "stream",
     "text": [
      "True\n"
     ]
    }
   ],
   "source": [
    "print(torch.cuda.is_available())"
   ]
  },
  {
   "cell_type": "code",
   "execution_count": 4,
   "id": "57357e0d",
   "metadata": {},
   "outputs": [
    {
     "data": {
      "text/plain": [
       "'1.13.0'"
      ]
     },
     "execution_count": 4,
     "metadata": {},
     "output_type": "execute_result"
    }
   ],
   "source": [
    "torch.__version__"
   ]
  },
  {
   "cell_type": "markdown",
   "id": "66d672bc",
   "metadata": {},
   "source": [
    "## 파이토치(Pytorch)\n",
    "\n",
    "- 페이스북이 초기 루아(Lua)언어로 개발된 토치(Torch)를 파이썬 버전으로 개발하여 2017년에 공개\n",
    "- 초기에 Torch는 Numpy 라이브러리처럼 과학 연산을 위한 라이브러리로 공개\n",
    "- 이후 병렬처리를 지원하는 GPU를 이용한 tensor조작 및 동적 신경망 구축이 가능하도록 Deep Learning Framework로 발전시킴\n",
    "- 파이썬답게 만들어졌고 유연하면서도 가속화된 계산 속도를 제공"
   ]
  },
  {
   "cell_type": "markdown",
   "id": "7f5e5050",
   "metadata": {},
   "source": [
    "## 파이토치의 구성요소\n",
    "\n",
    "- torch : 메인 네임스페이스, 텐서등의 다양한 수학 함수가 포함\n",
    "- torch.autograd : 자동 미분 기능을 제공하는 라이브러리\n",
    "- torch.nn : 신경망 구축을 위한 데이터 구조나 레이어 등의 라이브러리\n",
    "- torch.multiprocessing : 병렬처리 기능을 제공하는 라이브러리\n",
    "- torch.optim : SGD(Stochastic Gradient Descent)를 중심으로 한 파라미터 최적화 알고리즘 제공\n",
    "- torch.utils : 데이터 조작 등 유틸리티 기능 제공\n",
    "- torch.onnx : ONNX(Open Neural Network Exchange), 서로 다른 프레임워크 간의 모델을 공유할 때 사용"
   ]
  },
  {
   "cell_type": "markdown",
   "id": "dd043313",
   "metadata": {},
   "source": [
    "## 텐서(Tensors)\n",
    "\n",
    "- 데이터 표현을 위한 기본 구조로 텐서(tensor)를 이용\n",
    "- 텐서는 데이터를 담기 위한 container로서 일반적으로 수치형 데이터를 저장\n",
    "- Numpy의 ndarray와 유사\n",
    "- GPU를 사용한 연산 가속 가능\n",
    "\n",
    "    - 0D Tensor(Scalar) : Rank=0, Shape=()\n",
    "    - 1D Tensor(Vector) : Rank=1, Shape=(3,)\n",
    "    - 2D Tensor(Matrix) : Rank=2, Shape=(3,3)\n",
    "    - 3D Tensor         : Rank=3, Shape=(3,3,3)\n",
    "    - 4D Tensor         : Rank=4, Shape=(3,3,3,3)\n",
    "    - 5D Tensor         : Rank=5, Shape=(3,3,3,3,3)\n",
    "    - 6D Tensor         : Rank=6, Shape=(3,3,3,3,3,3)"
   ]
  },
  {
   "cell_type": "markdown",
   "id": "488eacf4",
   "metadata": {},
   "source": [
    "## 텐서 초기화와 데이터 타입"
   ]
  },
  {
   "cell_type": "code",
   "execution_count": 5,
   "id": "b21b59c2",
   "metadata": {},
   "outputs": [
    {
     "name": "stdout",
     "output_type": "stream",
     "text": [
      "tensor([[7.8675e+34, 4.6894e+27],\n",
      "        [1.6217e-19, 1.4333e-19],\n",
      "        [2.7530e+12, 7.5338e+28],\n",
      "        [8.1173e-10, 3.5873e-43]])\n"
     ]
    }
   ],
   "source": [
    "# 초기화 되지 않은 텐서\n",
    "x = torch.empty(4,2)\n",
    "print(x)"
   ]
  },
  {
   "cell_type": "code",
   "execution_count": 6,
   "id": "02358642",
   "metadata": {},
   "outputs": [
    {
     "name": "stdout",
     "output_type": "stream",
     "text": [
      "tensor([[0.1834, 0.3772],\n",
      "        [0.2033, 0.1296],\n",
      "        [0.5581, 0.2812],\n",
      "        [0.5279, 0.8109]])\n"
     ]
    }
   ],
   "source": [
    "# 무작위로 초기화된 텐서\n",
    "x = torch.rand(4,2)\n",
    "print(x)"
   ]
  },
  {
   "cell_type": "code",
   "execution_count": 7,
   "id": "9c985d88",
   "metadata": {},
   "outputs": [
    {
     "name": "stdout",
     "output_type": "stream",
     "text": [
      "tensor([[0, 0],\n",
      "        [0, 0],\n",
      "        [0, 0],\n",
      "        [0, 0]])\n"
     ]
    }
   ],
   "source": [
    "# 데이터타입이 long이고 0으로 채워진 텐서\n",
    "x = torch.zeros(4,2, dtype=torch.long)\n",
    "print(x)  # 타입이 long이므로 소수점이 없이 정수형태로 초기화되었다"
   ]
  },
  {
   "cell_type": "code",
   "execution_count": 8,
   "id": "f09019a2",
   "metadata": {},
   "outputs": [
    {
     "name": "stdout",
     "output_type": "stream",
     "text": [
      "tensor([3.0000, 2.3000])\n"
     ]
    }
   ],
   "source": [
    "# 사용자가 입력한 값으로 텐서 초기화\n",
    "x = torch.tensor([3, 2.3])\n",
    "print(x)"
   ]
  },
  {
   "cell_type": "code",
   "execution_count": 9,
   "id": "6377dbd5",
   "metadata": {},
   "outputs": [
    {
     "name": "stdout",
     "output_type": "stream",
     "text": [
      "tensor([[1., 1., 1., 1.],\n",
      "        [1., 1., 1., 1.]], dtype=torch.float64)\n",
      "\n",
      "tensor([[1., 1., 1., 1.],\n",
      "        [1., 1., 1., 1.]], dtype=torch.float64)\n",
      "\n",
      "tensor([[True, True, True, True],\n",
      "        [True, True, True, True]])\n"
     ]
    }
   ],
   "source": [
    "# 2*4크기, double타입, 1로 채워진 텐서\n",
    "x = x.new_ones(2,4, dtype=torch.double)\n",
    "print(x)\n",
    "print()\n",
    "y= torch.ones(2,4, dtype=torch.double)\n",
    "print(x)\n",
    "print()\n",
    "print(x == y)"
   ]
  },
  {
   "cell_type": "code",
   "execution_count": 10,
   "id": "ca33c2d5",
   "metadata": {},
   "outputs": [
    {
     "name": "stdout",
     "output_type": "stream",
     "text": [
      "tensor([[ 0.1038,  0.5927,  1.9454,  1.7532],\n",
      "        [ 0.3443,  0.4453, -0.0746,  0.2854]])\n"
     ]
    }
   ],
   "source": [
    "# x와 같은 크기, float타입, 무작위로 채워진 텐서\n",
    "x = torch.randn_like(x, dtype=torch.float)\n",
    "print(x)"
   ]
  },
  {
   "cell_type": "code",
   "execution_count": 11,
   "id": "97872f86",
   "metadata": {},
   "outputs": [
    {
     "name": "stdout",
     "output_type": "stream",
     "text": [
      "torch.Size([2, 4])\n"
     ]
    }
   ],
   "source": [
    "# 텐서의 크기 계산\n",
    "print(x.size())"
   ]
  },
  {
   "cell_type": "code",
   "execution_count": 12,
   "id": "77383033",
   "metadata": {},
   "outputs": [
    {
     "name": "stdout",
     "output_type": "stream",
     "text": [
      "tensor([1., 2., 3.])\n",
      "torch.float32\n"
     ]
    }
   ],
   "source": [
    "ft = torch.FloatTensor([1,2,3])\n",
    "print(ft)\n",
    "print(ft.dtype)"
   ]
  },
  {
   "cell_type": "code",
   "execution_count": 13,
   "id": "b81bcfc9",
   "metadata": {},
   "outputs": [
    {
     "name": "stdout",
     "output_type": "stream",
     "text": [
      "tensor([1, 2, 3], dtype=torch.int16)\n",
      "tensor([1, 2, 3], dtype=torch.int32)\n",
      "tensor([1, 2, 3])\n"
     ]
    }
   ],
   "source": [
    "# 데이터 타입을 변경 : casting\n",
    "print(ft.short())\n",
    "print(ft.int())\n",
    "print(ft.long())"
   ]
  },
  {
   "cell_type": "code",
   "execution_count": 14,
   "id": "a96548b9",
   "metadata": {},
   "outputs": [
    {
     "name": "stdout",
     "output_type": "stream",
     "text": [
      "tensor([1, 2, 3], dtype=torch.int32)\n",
      "torch.int32\n"
     ]
    }
   ],
   "source": [
    "it = torch.IntTensor([1,2,3])\n",
    "print(it)\n",
    "print(it.dtype)"
   ]
  },
  {
   "cell_type": "code",
   "execution_count": 15,
   "id": "973ed74c",
   "metadata": {},
   "outputs": [
    {
     "name": "stdout",
     "output_type": "stream",
     "text": [
      "tensor([1., 2., 3.])\n",
      "tensor([1., 2., 3.], dtype=torch.float64)\n",
      "tensor([1., 2., 3.], dtype=torch.float16)\n"
     ]
    }
   ],
   "source": [
    "print(it.float())\n",
    "print(it.double())\n",
    "print(it.half())"
   ]
  },
  {
   "cell_type": "markdown",
   "id": "fe314295",
   "metadata": {},
   "source": [
    "## CUDA Tensors\n",
    "- .to 메서드를 사용하여 텐서를 어떠한 장치(cpu, gpu)로도 옮길 수 있다."
   ]
  },
  {
   "cell_type": "code",
   "execution_count": null,
   "id": "c95d583f",
   "metadata": {},
   "outputs": [],
   "source": []
  }
 ],
 "metadata": {
  "kernelspec": {
   "display_name": "tf_gpu",
   "language": "python",
   "name": "tf_gpu"
  },
  "language_info": {
   "codemirror_mode": {
    "name": "ipython",
    "version": 3
   },
   "file_extension": ".py",
   "mimetype": "text/x-python",
   "name": "python",
   "nbconvert_exporter": "python",
   "pygments_lexer": "ipython3",
   "version": "3.9.13"
  }
 },
 "nbformat": 4,
 "nbformat_minor": 5
}
