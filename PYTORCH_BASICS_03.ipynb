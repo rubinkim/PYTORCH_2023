{
 "cells": [
  {
   "cell_type": "code",
   "execution_count": 1,
   "metadata": {},
   "outputs": [],
   "source": [
    "import numpy as np\n",
    "import torch\n",
    "import torch.nn as nn"
   ]
  },
  {
   "attachments": {},
   "cell_type": "markdown",
   "metadata": {},
   "source": [
    "##### nn.Linear layer"
   ]
  },
  {
   "cell_type": "code",
   "execution_count": 10,
   "metadata": {},
   "outputs": [
    {
     "name": "stdout",
     "output_type": "stream",
     "text": [
      "torch.Size([2, 4])\n",
      "tensor([[-1.2075,  0.5493, -0.3856,  0.6910],\n",
      "        [-0.7424,  0.1570,  0.0721,  1.1055]])\n"
     ]
    }
   ],
   "source": [
    "torch.manual_seed(2023)\n",
    "input = torch.randn(2, 4)\n",
    "print(input.size())\n",
    "print(input)"
   ]
  },
  {
   "cell_type": "code",
   "execution_count": 11,
   "metadata": {},
   "outputs": [
    {
     "name": "stdout",
     "output_type": "stream",
     "text": [
      "Linear(in_features=4, out_features=3, bias=False)\n"
     ]
    }
   ],
   "source": [
    "m = nn.Linear(in_features=4, out_features=3, bias=False)\n",
    "print(m)"
   ]
  },
  {
   "cell_type": "code",
   "execution_count": 12,
   "metadata": {},
   "outputs": [
    {
     "data": {
      "text/plain": [
       "Parameter containing:\n",
       "tensor([[-0.2568,  0.4644,  0.0034, -0.4680],\n",
       "        [ 0.3316, -0.1193, -0.1461, -0.2886],\n",
       "        [ 0.4839,  0.1632,  0.2001, -0.4845]], requires_grad=True)"
      ]
     },
     "execution_count": 12,
     "metadata": {},
     "output_type": "execute_result"
    }
   ],
   "source": [
    "m.weight"
   ]
  },
  {
   "cell_type": "code",
   "execution_count": 13,
   "metadata": {},
   "outputs": [
    {
     "name": "stdout",
     "output_type": "stream",
     "text": [
      "torch.Size([2, 3])\n",
      "tensor([[ 0.2406, -0.6090, -0.9066],\n",
      "        [-0.2534, -0.5945, -0.8548]], grad_fn=<MmBackward0>)\n"
     ]
    }
   ],
   "source": [
    "output = m(input)\n",
    "print(output.shape)\n",
    "print(output)"
   ]
  },
  {
   "cell_type": "code",
   "execution_count": 17,
   "metadata": {},
   "outputs": [
    {
     "name": "stdout",
     "output_type": "stream",
     "text": [
      "tensor([[ 0.2406, -0.6090, -0.9066],\n",
      "        [-0.2534, -0.5945, -0.8548]])\n"
     ]
    }
   ],
   "source": [
    "output_matmul = np.matmul(input, m.weight.T.detach().numpy())\n",
    "print(output_matmul)"
   ]
  },
  {
   "cell_type": "code",
   "execution_count": 19,
   "metadata": {},
   "outputs": [
    {
     "data": {
      "text/plain": [
       "tensor([[True, True, True],\n",
       "        [True, True, True]])"
      ]
     },
     "execution_count": 19,
     "metadata": {},
     "output_type": "execute_result"
    }
   ],
   "source": [
    "output.detach() == output_matmul"
   ]
  },
  {
   "attachments": {},
   "cell_type": "markdown",
   "metadata": {},
   "source": [
    "##### Conv2d layer"
   ]
  },
  {
   "cell_type": "code",
   "execution_count": 20,
   "metadata": {},
   "outputs": [],
   "source": [
    "from torch.utils.data import Dataset, DataLoader\n",
    "import torchvision.transforms as transforms\n",
    "from torchvision import datasets"
   ]
  },
  {
   "cell_type": "code",
   "execution_count": 21,
   "metadata": {},
   "outputs": [],
   "source": [
    "mnist_transform = transforms.Compose([transforms.ToTensor(), transforms.Normalize(mean=(0.5,), std=(1.0,))])"
   ]
  },
  {
   "cell_type": "code",
   "execution_count": 27,
   "metadata": {},
   "outputs": [],
   "source": [
    "trainset = datasets.MNIST(root='data/', train=True, download=True, transform=mnist_transform)\n",
    "testset = datasets.MNIST(root='data/', train=False, download=True, transform=mnist_transform)"
   ]
  },
  {
   "cell_type": "code",
   "execution_count": 28,
   "metadata": {},
   "outputs": [],
   "source": [
    "# DataLoader는 dataset전체를 보관했다가 batch_size크기만클 data를 가져온다.\n",
    "train_loader = DataLoader(trainset, batch_size=8, shuffle=True, num_workers=2)\n",
    "test_loader = DataLoader(testset, batch_size=8, shuffle=False, num_workers=2)"
   ]
  },
  {
   "cell_type": "code",
   "execution_count": 29,
   "metadata": {},
   "outputs": [
    {
     "name": "stdout",
     "output_type": "stream",
     "text": [
      "torch.Size([8, 1, 28, 28]) torch.Size([8])\n"
     ]
    }
   ],
   "source": [
    "# data를 loader를 이용해서 iteration으로 가져온다.\n",
    "dataiter = iter(train_loader)\n",
    "images, labels = next(dataiter)\n",
    "print(images.size(), labels.size())"
   ]
  },
  {
   "cell_type": "code",
   "execution_count": 33,
   "metadata": {},
   "outputs": [
    {
     "data": {
      "text/plain": [
       "True"
      ]
     },
     "execution_count": 33,
     "metadata": {},
     "output_type": "execute_result"
    }
   ],
   "source": [
    "torch.cuda.is_available()"
   ]
  },
  {
   "cell_type": "code",
   "execution_count": 35,
   "metadata": {},
   "outputs": [],
   "source": [
    "layer = nn.Conv2d(in_channels=1, out_channels=20, kernel_size=5, stride=1).to(torch.device('cpu'))"
   ]
  },
  {
   "cell_type": "code",
   "execution_count": 36,
   "metadata": {},
   "outputs": [
    {
     "name": "stdout",
     "output_type": "stream",
     "text": [
      "(20, 1, 5, 5)\n"
     ]
    }
   ],
   "source": [
    "weight = layer.weight.detach().numpy()\n",
    "print(weight.shape)"
   ]
  },
  {
   "cell_type": "code",
   "execution_count": 37,
   "metadata": {},
   "outputs": [
    {
     "name": "stdout",
     "output_type": "stream",
     "text": [
      "images shape : torch.Size([8, 1, 28, 28])\n",
      "images[0] size : torch.Size([1, 28, 28])\n"
     ]
    }
   ],
   "source": [
    "print(f\"images shape : {images.shape}\")\n",
    "print(f\"images[0] size : {images[0].size()}\")"
   ]
  },
  {
   "cell_type": "code",
   "execution_count": 39,
   "metadata": {},
   "outputs": [
    {
     "name": "stdout",
     "output_type": "stream",
     "text": [
      "input image size : torch.Size([28, 28])\n"
     ]
    }
   ],
   "source": [
    "input_image = torch.squeeze(images[7])\n",
    "print(f\"input image size : {input_image.size()}\")"
   ]
  },
  {
   "cell_type": "code",
   "execution_count": 41,
   "metadata": {},
   "outputs": [
    {
     "name": "stdout",
     "output_type": "stream",
     "text": [
      "input_data size : torch.Size([1, 1, 28, 28])\n"
     ]
    }
   ],
   "source": [
    "input_data = torch.unsqueeze(images[7], dim=0)\n",
    "print(f\"input_data size : {input_data.size()}\")      # 1=인풋한장, 1=흑백, 28=width, 28=height"
   ]
  },
  {
   "cell_type": "code",
   "execution_count": 42,
   "metadata": {},
   "outputs": [
    {
     "name": "stdout",
     "output_type": "stream",
     "text": [
      "output size : torch.Size([1, 20, 24, 24])\n"
     ]
    }
   ],
   "source": [
    "# Conv2d layer를 통과시킬 때 어떤 식으로 weight가 적용되고 결과가 나오는지 살펴보자\n",
    "output_data = layer(input_data)\n",
    "output = output_data.data\n",
    "print(f\"output size : {output.size()}\")"
   ]
  },
  {
   "cell_type": "code",
   "execution_count": 43,
   "metadata": {},
   "outputs": [
    {
     "name": "stdout",
     "output_type": "stream",
     "text": [
      "tensor([[[[ 0.2866,  0.2866,  0.2866,  ...,  0.2866,  0.2866,  0.2866],\n",
      "          [ 0.2866,  0.2866,  0.2866,  ...,  0.2866,  0.2866,  0.2866],\n",
      "          [ 0.2866,  0.2866,  0.2866,  ...,  0.2866,  0.2866,  0.2866],\n",
      "          ...,\n",
      "          [ 0.2866,  0.2866,  0.2866,  ...,  0.2866,  0.2866,  0.2866],\n",
      "          [ 0.2866,  0.2866,  0.2866,  ...,  0.2866,  0.2866,  0.2866],\n",
      "          [ 0.2866,  0.2866,  0.2866,  ...,  0.2866,  0.2866,  0.2866]],\n",
      "\n",
      "         [[-0.3748, -0.3748, -0.3748,  ..., -0.3748, -0.3748, -0.3748],\n",
      "          [-0.3748, -0.3748, -0.3748,  ..., -0.3748, -0.3748, -0.3748],\n",
      "          [-0.3748, -0.3748, -0.3748,  ..., -0.3748, -0.3748, -0.3748],\n",
      "          ...,\n",
      "          [-0.3748, -0.3748, -0.3748,  ..., -0.3748, -0.3748, -0.3748],\n",
      "          [-0.3748, -0.3748, -0.3748,  ..., -0.3748, -0.3748, -0.3748],\n",
      "          [-0.3748, -0.3748, -0.3748,  ..., -0.3748, -0.3748, -0.3748]],\n",
      "\n",
      "         [[ 0.4517,  0.4517,  0.4517,  ...,  0.4517,  0.4517,  0.4517],\n",
      "          [ 0.4517,  0.4517,  0.4517,  ...,  0.4517,  0.4517,  0.4517],\n",
      "          [ 0.4517,  0.4517,  0.4517,  ...,  0.4517,  0.4517,  0.4517],\n",
      "          ...,\n",
      "          [ 0.4517,  0.4517,  0.4517,  ...,  0.4517,  0.4517,  0.4517],\n",
      "          [ 0.4517,  0.4517,  0.4517,  ...,  0.4517,  0.4517,  0.4517],\n",
      "          [ 0.4517,  0.4517,  0.4517,  ...,  0.4517,  0.4517,  0.4517]],\n",
      "\n",
      "         ...,\n",
      "\n",
      "         [[ 0.3736,  0.3736,  0.3736,  ...,  0.3736,  0.3736,  0.3736],\n",
      "          [ 0.3736,  0.3736,  0.3736,  ...,  0.3736,  0.3736,  0.3736],\n",
      "          [ 0.3736,  0.3736,  0.3736,  ...,  0.3736,  0.3736,  0.3736],\n",
      "          ...,\n",
      "          [ 0.3736,  0.3736,  0.3736,  ...,  0.3736,  0.3736,  0.3736],\n",
      "          [ 0.3736,  0.3736,  0.3736,  ...,  0.3736,  0.3736,  0.3736],\n",
      "          [ 0.3736,  0.3736,  0.3736,  ...,  0.3736,  0.3736,  0.3736]],\n",
      "\n",
      "         [[ 0.2953,  0.2953,  0.2953,  ...,  0.2953,  0.2953,  0.2953],\n",
      "          [ 0.2953,  0.2953,  0.2953,  ...,  0.2953,  0.2953,  0.2953],\n",
      "          [ 0.2953,  0.2953,  0.2953,  ...,  0.2953,  0.2953,  0.2953],\n",
      "          ...,\n",
      "          [ 0.2953,  0.2953,  0.2953,  ...,  0.2953,  0.2953,  0.2953],\n",
      "          [ 0.2953,  0.2953,  0.2953,  ...,  0.2953,  0.2953,  0.2953],\n",
      "          [ 0.2953,  0.2953,  0.2953,  ...,  0.2953,  0.2953,  0.2953]],\n",
      "\n",
      "         [[ 0.1732,  0.1732,  0.1732,  ...,  0.1732,  0.1732,  0.1732],\n",
      "          [ 0.1732,  0.1732,  0.1732,  ...,  0.1732,  0.1732,  0.1732],\n",
      "          [ 0.1732,  0.1732,  0.1732,  ...,  0.1732,  0.1732,  0.1732],\n",
      "          ...,\n",
      "          [ 0.1732,  0.1732,  0.1732,  ...,  0.1732,  0.1732,  0.1732],\n",
      "          [ 0.1732,  0.1732,  0.1732,  ...,  0.1732,  0.1732,  0.1732],\n",
      "          [ 0.1732,  0.1732,  0.1732,  ...,  0.1732,  0.1732,  0.1732]]]])\n"
     ]
    }
   ],
   "source": [
    "print(output)"
   ]
  },
  {
   "cell_type": "code",
   "execution_count": 44,
   "metadata": {},
   "outputs": [
    {
     "name": "stdout",
     "output_type": "stream",
     "text": [
      "<class 'numpy.ndarray'> (1, 20, 24, 24)\n"
     ]
    }
   ],
   "source": [
    "output_arr = output.numpy()\n",
    "print(type(output_arr), output_arr.shape)"
   ]
  },
  {
   "cell_type": "code",
   "execution_count": 45,
   "metadata": {},
   "outputs": [],
   "source": [
    "import matplotlib.pyplot as plt"
   ]
  },
  {
   "cell_type": "code",
   "execution_count": 53,
   "metadata": {},
   "outputs": [
    {
     "data": {
      "image/png": "[encoded data removed]",
      "text/plain": [
       "<Figure size 1800x600 with 4 Axes>"
      ]
     },
     "metadata": {},
     "output_type": "display_data"
    }
   ],
   "source": [
    "plt.figure(figsize=(18, 6))\n",
    "\n",
    "plt.subplot(131); plt.title(\"Input\")\n",
    "plt.imshow(input_image, cmap='gray')\n",
    "\n",
    "plt.subplot(132); plt.title(\"Weight\")\n",
    "plt.imshow(weight[0, 0, :, :], cmap='jet')\n",
    "plt.colorbar()\n",
    "\n",
    "plt.subplot(133); plt.title(\"Output\")\n",
    "plt.imshow(output_arr[0, 0, :, :], cmap='gray')\n",
    "\n",
    "plt.show()"
   ]
  },
  {
   "cell_type": "code",
   "execution_count": null,
   "metadata": {},
   "outputs": [],
   "source": []
  }
 ],
 "metadata": {
  "kernelspec": {
   "display_name": "tf_gpu",
   "language": "python",
   "name": "python3"
  },
  "language_info": {
   "codemirror_mode": {
    "name": "ipython",
    "version": 3
   },
   "file_extension": ".py",
   "mimetype": "text/x-python",
   "name": "python",
   "nbconvert_exporter": "python",
   "pygments_lexer": "ipython3",
   "version": "3.9.13"
  },
  "orig_nbformat": 4
 },
 "nbformat": 4,
 "nbformat_minor": 2
}
