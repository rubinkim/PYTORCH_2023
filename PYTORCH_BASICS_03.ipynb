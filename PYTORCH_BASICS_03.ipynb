{
 "cells": [
  {
   "cell_type": "code",
   "execution_count": 5,
   "metadata": {},
   "outputs": [],
   "source": [
    "import numpy as np\n",
    "import torch\n",
    "import torch.nn as nn"
   ]
  },
  {
   "attachments": {},
   "cell_type": "markdown",
   "metadata": {},
   "source": [
    "##### nn.Linear layer"
   ]
  },
  {
   "cell_type": "code",
   "execution_count": 10,
   "metadata": {},
   "outputs": [
    {
     "name": "stdout",
     "output_type": "stream",
     "text": [
      "torch.Size([2, 4])\n",
      "tensor([[-1.2075,  0.5493, -0.3856,  0.6910],\n",
      "        [-0.7424,  0.1570,  0.0721,  1.1055]])\n"
     ]
    }
   ],
   "source": [
    "torch.manual_seed(2023)\n",
    "input = torch.randn(2, 4)\n",
    "print(input.size())\n",
    "print(input)"
   ]
  },
  {
   "cell_type": "code",
   "execution_count": 11,
   "metadata": {},
   "outputs": [
    {
     "name": "stdout",
     "output_type": "stream",
     "text": [
      "Linear(in_features=4, out_features=3, bias=False)\n"
     ]
    }
   ],
   "source": [
    "m = nn.Linear(in_features=4, out_features=3, bias=False)\n",
    "print(m)"
   ]
  },
  {
   "cell_type": "code",
   "execution_count": 12,
   "metadata": {},
   "outputs": [
    {
     "data": {
      "text/plain": [
       "Parameter containing:\n",
       "tensor([[-0.2568,  0.4644,  0.0034, -0.4680],\n",
       "        [ 0.3316, -0.1193, -0.1461, -0.2886],\n",
       "        [ 0.4839,  0.1632,  0.2001, -0.4845]], requires_grad=True)"
      ]
     },
     "execution_count": 12,
     "metadata": {},
     "output_type": "execute_result"
    }
   ],
   "source": [
    "m.weight"
   ]
  },
  {
   "cell_type": "code",
   "execution_count": 13,
   "metadata": {},
   "outputs": [
    {
     "name": "stdout",
     "output_type": "stream",
     "text": [
      "torch.Size([2, 3])\n",
      "tensor([[ 0.2406, -0.6090, -0.9066],\n",
      "        [-0.2534, -0.5945, -0.8548]], grad_fn=<MmBackward0>)\n"
     ]
    }
   ],
   "source": [
    "output = m(input)\n",
    "print(output.shape)\n",
    "print(output)"
   ]
  },
  {
   "cell_type": "code",
   "execution_count": 17,
   "metadata": {},
   "outputs": [
    {
     "name": "stdout",
     "output_type": "stream",
     "text": [
      "tensor([[ 0.2406, -0.6090, -0.9066],\n",
      "        [-0.2534, -0.5945, -0.8548]])\n"
     ]
    }
   ],
   "source": [
    "output_matmul = np.matmul(input, m.weight.T.detach().numpy())\n",
    "print(output_matmul)"
   ]
  },
  {
   "cell_type": "code",
   "execution_count": 19,
   "metadata": {},
   "outputs": [
    {
     "data": {
      "text/plain": [
       "tensor([[True, True, True],\n",
       "        [True, True, True]])"
      ]
     },
     "execution_count": 19,
     "metadata": {},
     "output_type": "execute_result"
    }
   ],
   "source": [
    "output.detach() == output_matmul"
   ]
  },
  {
   "attachments": {},
   "cell_type": "markdown",
   "metadata": {},
   "source": [
    "##### Conv2d layer"
   ]
  },
  {
   "cell_type": "code",
   "execution_count": 20,
   "metadata": {},
   "outputs": [],
   "source": [
    "from torch.utils.data import Dataset, DataLoader\n",
    "import torchvision.transforms as transforms\n",
    "from torchvision import datasets"
   ]
  },
  {
   "cell_type": "code",
   "execution_count": 21,
   "metadata": {},
   "outputs": [],
   "source": [
    "mnist_transform = transforms.Compose([transforms.ToTensor(), transforms.Normalize(mean=(0.5,), std=(1.0,))])"
   ]
  },
  {
   "cell_type": "code",
   "execution_count": 27,
   "metadata": {},
   "outputs": [],
   "source": [
    "trainset = datasets.MNIST(root='data/', train=True, download=True, transform=mnist_transform)\n",
    "testset = datasets.MNIST(root='data/', train=False, download=True, transform=mnist_transform)"
   ]
  },
  {
   "cell_type": "code",
   "execution_count": 28,
   "metadata": {},
   "outputs": [],
   "source": [
    "# DataLoader는 dataset전체를 보관했다가 batch_size크기만클 data를 가져온다.\n",
    "train_loader = DataLoader(trainset, batch_size=8, shuffle=True, num_workers=2)\n",
    "test_loader = DataLoader(testset, batch_size=8, shuffle=False, num_workers=2)"
   ]
  },
  {
   "cell_type": "code",
   "execution_count": 29,
   "metadata": {},
   "outputs": [
    {
     "name": "stdout",
     "output_type": "stream",
     "text": [
      "torch.Size([8, 1, 28, 28]) torch.Size([8])\n"
     ]
    }
   ],
   "source": [
    "# data를 loader를 이용해서 iteration으로 가져온다.\n",
    "dataiter = iter(train_loader)\n",
    "images, labels = next(dataiter)\n",
    "print(images.size(), labels.size())"
   ]
  },
  {
   "cell_type": "code",
   "execution_count": 33,
   "metadata": {},
   "outputs": [
    {
     "data": {
      "text/plain": [
       "True"
      ]
     },
     "execution_count": 33,
     "metadata": {},
     "output_type": "execute_result"
    }
   ],
   "source": [
    "torch.cuda.is_available()"
   ]
  },
  {
   "cell_type": "code",
   "execution_count": 35,
   "metadata": {},
   "outputs": [],
   "source": [
    "layer = nn.Conv2d(in_channels=1, out_channels=20, kernel_size=5, stride=1).to(torch.device('cpu'))"
   ]
  },
  {
   "cell_type": "code",
   "execution_count": 36,
   "metadata": {},
   "outputs": [
    {
     "name": "stdout",
     "output_type": "stream",
     "text": [
      "(20, 1, 5, 5)\n"
     ]
    }
   ],
   "source": [
    "weight = layer.weight.detach().numpy()\n",
    "print(weight.shape)"
   ]
  },
  {
   "cell_type": "code",
   "execution_count": 37,
   "metadata": {},
   "outputs": [
    {
     "name": "stdout",
     "output_type": "stream",
     "text": [
      "images shape : torch.Size([8, 1, 28, 28])\n",
      "images[0] size : torch.Size([1, 28, 28])\n"
     ]
    }
   ],
   "source": [
    "print(f\"images shape : {images.shape}\")\n",
    "print(f\"images[0] size : {images[0].size()}\")"
   ]
  },
  {
   "cell_type": "code",
   "execution_count": 71,
   "metadata": {},
   "outputs": [
    {
     "name": "stdout",
     "output_type": "stream",
     "text": [
      "input image size : torch.Size([28, 28])\n"
     ]
    }
   ],
   "source": [
    "input_image = torch.squeeze(images[3])\n",
    "print(f\"input image size : {input_image.size()}\")"
   ]
  },
  {
   "cell_type": "code",
   "execution_count": 72,
   "metadata": {},
   "outputs": [
    {
     "name": "stdout",
     "output_type": "stream",
     "text": [
      "input_data size : torch.Size([1, 1, 28, 28])\n"
     ]
    }
   ],
   "source": [
    "input_data = torch.unsqueeze(images[3], dim=0)\n",
    "print(f\"input_data size : {input_data.size()}\")      # 1=인풋한장, 1=흑백, 28=width, 28=height"
   ]
  },
  {
   "cell_type": "code",
   "execution_count": 73,
   "metadata": {},
   "outputs": [
    {
     "name": "stdout",
     "output_type": "stream",
     "text": [
      "output size : torch.Size([1, 20, 24, 24])\n"
     ]
    }
   ],
   "source": [
    "# Conv2d layer를 통과시킬 때 어떤 식으로 weight가 적용되고 결과가 나오는지 살펴보자\n",
    "output_data = layer(input_data)\n",
    "output = output_data.data\n",
    "print(f\"output size : {output.size()}\")"
   ]
  },
  {
   "cell_type": "code",
   "execution_count": 74,
   "metadata": {},
   "outputs": [
    {
     "name": "stdout",
     "output_type": "stream",
     "text": [
      "tensor([[[[ 0.2866,  0.2866,  0.2866,  ...,  0.2866,  0.2866,  0.2866],\n",
      "          [ 0.2866,  0.2866,  0.2866,  ...,  0.2866,  0.2866,  0.2866],\n",
      "          [ 0.2866,  0.2866,  0.2866,  ...,  0.2866,  0.2866,  0.2866],\n",
      "          ...,\n",
      "          [ 0.2866,  0.2866,  0.2866,  ...,  0.2866,  0.2866,  0.2866],\n",
      "          [ 0.2866,  0.2866,  0.2866,  ...,  0.2866,  0.2866,  0.2866],\n",
      "          [ 0.2866,  0.2866,  0.2866,  ...,  0.2866,  0.2866,  0.2866]],\n",
      "\n",
      "         [[-0.3748, -0.3748, -0.3748,  ..., -0.3748, -0.3748, -0.3748],\n",
      "          [-0.3748, -0.3748, -0.3748,  ..., -0.3748, -0.3748, -0.3748],\n",
      "          [-0.3748, -0.3748, -0.3748,  ..., -0.3748, -0.3748, -0.3748],\n",
      "          ...,\n",
      "          [-0.3748, -0.3748, -0.3748,  ..., -0.3748, -0.3748, -0.3748],\n",
      "          [-0.3748, -0.3748, -0.3748,  ..., -0.3748, -0.3748, -0.3748],\n",
      "          [-0.3748, -0.3748, -0.3748,  ..., -0.3748, -0.3748, -0.3748]],\n",
      "\n",
      "         [[ 0.4517,  0.4517,  0.4517,  ...,  0.4517,  0.4517,  0.4517],\n",
      "          [ 0.4517,  0.4517,  0.4517,  ...,  0.4517,  0.4517,  0.4517],\n",
      "          [ 0.4517,  0.4517,  0.4517,  ...,  0.4517,  0.4517,  0.4517],\n",
      "          ...,\n",
      "          [ 0.4517,  0.4517,  0.4517,  ...,  0.4517,  0.4517,  0.4517],\n",
      "          [ 0.4517,  0.4517,  0.4517,  ...,  0.4517,  0.4517,  0.4517],\n",
      "          [ 0.4517,  0.4517,  0.4517,  ...,  0.4517,  0.4517,  0.4517]],\n",
      "\n",
      "         ...,\n",
      "\n",
      "         [[ 0.3736,  0.3736,  0.3736,  ...,  0.3736,  0.3736,  0.3736],\n",
      "          [ 0.3736,  0.3736,  0.3736,  ...,  0.3736,  0.3736,  0.3736],\n",
      "          [ 0.3736,  0.3736,  0.3736,  ...,  0.3736,  0.3736,  0.3736],\n",
      "          ...,\n",
      "          [ 0.3736,  0.3736,  0.3736,  ...,  0.3736,  0.3736,  0.3736],\n",
      "          [ 0.3736,  0.3736,  0.3736,  ...,  0.3736,  0.3736,  0.3736],\n",
      "          [ 0.3736,  0.3736,  0.3736,  ...,  0.3736,  0.3736,  0.3736]],\n",
      "\n",
      "         [[ 0.2953,  0.2953,  0.2953,  ...,  0.2953,  0.2953,  0.2953],\n",
      "          [ 0.2953,  0.2953,  0.2953,  ...,  0.2953,  0.2953,  0.2953],\n",
      "          [ 0.2953,  0.2953,  0.2953,  ...,  0.2953,  0.2953,  0.2953],\n",
      "          ...,\n",
      "          [ 0.2953,  0.2953,  0.2953,  ...,  0.2953,  0.2953,  0.2953],\n",
      "          [ 0.2953,  0.2953,  0.2953,  ...,  0.2953,  0.2953,  0.2953],\n",
      "          [ 0.2953,  0.2953,  0.2953,  ...,  0.2953,  0.2953,  0.2953]],\n",
      "\n",
      "         [[ 0.1732,  0.1732,  0.1732,  ...,  0.1732,  0.1732,  0.1732],\n",
      "          [ 0.1732,  0.1732,  0.1732,  ...,  0.1732,  0.1732,  0.1732],\n",
      "          [ 0.1732,  0.1732,  0.1732,  ...,  0.1732,  0.1732,  0.1732],\n",
      "          ...,\n",
      "          [ 0.1732,  0.1732,  0.1732,  ...,  0.1732,  0.1732,  0.1732],\n",
      "          [ 0.1732,  0.1732,  0.1732,  ...,  0.1732,  0.1732,  0.1732],\n",
      "          [ 0.1732,  0.1732,  0.1732,  ...,  0.1732,  0.1732,  0.1732]]]])\n"
     ]
    }
   ],
   "source": [
    "print(output)"
   ]
  },
  {
   "cell_type": "code",
   "execution_count": 75,
   "metadata": {},
   "outputs": [
    {
     "name": "stdout",
     "output_type": "stream",
     "text": [
      "<class 'numpy.ndarray'> (1, 20, 24, 24)\n"
     ]
    }
   ],
   "source": [
    "output_arr = output.numpy()\n",
    "print(type(output_arr), output_arr.shape)"
   ]
  },
  {
   "cell_type": "code",
   "execution_count": 76,
   "metadata": {},
   "outputs": [],
   "source": [
    "import matplotlib.pyplot as plt"
   ]
  },
  {
   "cell_type": "code",
   "execution_count": 77,
   "metadata": {},
   "outputs": [
    {
     "data": {
      "image/png": "[encoded data removed]",
      "text/plain": [
       "<Figure size 1800x600 with 4 Axes>"
      ]
     },
     "metadata": {},
     "output_type": "display_data"
    }
   ],
   "source": [
    "plt.figure(figsize=(18, 6))\n",
    "\n",
    "plt.subplot(131); plt.title(\"Input\")\n",
    "plt.imshow(input_image, cmap='gray')\n",
    "\n",
    "plt.subplot(132); plt.title(\"Weight\")\n",
    "plt.imshow(weight[0, 0, :, :], cmap='jet')\n",
    "plt.colorbar()\n",
    "\n",
    "plt.subplot(133); plt.title(\"Output\")\n",
    "plt.imshow(output_arr[0, 0, :, :], cmap='gray')\n",
    "\n",
    "plt.show()"
   ]
  },
  {
   "cell_type": "code",
   "execution_count": 2,
   "metadata": {},
   "outputs": [],
   "source": [
    "import torchmetrics"
   ]
  },
  {
   "cell_type": "code",
   "execution_count": 29,
   "metadata": {},
   "outputs": [
    {
     "name": "stdout",
     "output_type": "stream",
     "text": [
      "tensor([[0.6114, 0.0669, 0.1512, 0.0525, 0.1181],\n",
      "        [0.0948, 0.0674, 0.7843, 0.0099, 0.0436],\n",
      "        [0.0981, 0.2120, 0.1959, 0.4335, 0.0606],\n",
      "        [0.7858, 0.1505, 0.0234, 0.0039, 0.0364],\n",
      "        [0.0469, 0.4226, 0.1507, 0.2119, 0.1679],\n",
      "        [0.0331, 0.0781, 0.3679, 0.4283, 0.0927],\n",
      "        [0.0443, 0.1583, 0.4668, 0.1717, 0.1589],\n",
      "        [0.0459, 0.0817, 0.0306, 0.7215, 0.1204],\n",
      "        [0.0213, 0.2599, 0.0429, 0.2694, 0.4064],\n",
      "        [0.0764, 0.1821, 0.0102, 0.0701, 0.6612]])\n",
      "\n",
      "tensor([0, 1, 2, 1, 2, 3, 2, 0, 0, 4])\n"
     ]
    }
   ],
   "source": [
    "preds = torch.randn(10, 5).softmax(dim=1)\n",
    "target = torch.randint(5, (10,))   \n",
    "\n",
    "print(preds)\n",
    "print()\n",
    "print(target)"
   ]
  },
  {
   "cell_type": "code",
   "execution_count": 30,
   "metadata": {},
   "outputs": [
    {
     "name": "stdout",
     "output_type": "stream",
     "text": [
      "tensor(0.4000)\n"
     ]
    }
   ],
   "source": [
    "acc = torchmetrics.functional.accuracy(preds=preds, target=target, task='multiclass', num_classes=5)\n",
    "print(acc)"
   ]
  },
  {
   "cell_type": "code",
   "execution_count": 52,
   "metadata": {},
   "outputs": [
    {
     "name": "stdout",
     "output_type": "stream",
     "text": [
      "tensor([[0.0230, 0.0836, 0.0776, 0.1776, 0.6382],\n",
      "        [0.3031, 0.1142, 0.0343, 0.1291, 0.4194],\n",
      "        [0.0491, 0.0900, 0.0854, 0.4163, 0.3593],\n",
      "        [0.1335, 0.0859, 0.6628, 0.0833, 0.0346],\n",
      "        [0.2083, 0.0515, 0.2776, 0.2840, 0.1787],\n",
      "        [0.4442, 0.0335, 0.1290, 0.0549, 0.3383],\n",
      "        [0.0450, 0.2963, 0.5365, 0.0658, 0.0564],\n",
      "        [0.5339, 0.0957, 0.0821, 0.1133, 0.1751],\n",
      "        [0.0437, 0.0212, 0.0306, 0.6440, 0.2605],\n",
      "        [0.0147, 0.0355, 0.1487, 0.1152, 0.6859]])\n",
      "tensor([4, 1, 2, 1, 0, 4, 1, 0, 0, 0])\n",
      "accuracy : 0.20\n",
      "\n",
      "tensor([[0.0638, 0.0258, 0.1093, 0.0349, 0.7663],\n",
      "        [0.0470, 0.1201, 0.1874, 0.0311, 0.6144],\n",
      "        [0.1772, 0.1684, 0.3180, 0.2385, 0.0978],\n",
      "        [0.5651, 0.1129, 0.0312, 0.0973, 0.1934],\n",
      "        [0.6660, 0.0796, 0.1324, 0.0149, 0.1071],\n",
      "        [0.0722, 0.1006, 0.0125, 0.7855, 0.0293],\n",
      "        [0.0430, 0.0338, 0.8898, 0.0252, 0.0082],\n",
      "        [0.1620, 0.0706, 0.5748, 0.0751, 0.1175],\n",
      "        [0.1747, 0.0468, 0.6690, 0.0531, 0.0563],\n",
      "        [0.1725, 0.0494, 0.3836, 0.3102, 0.0843]])\n",
      "tensor([1, 3, 4, 0, 0, 2, 1, 0, 0, 3])\n",
      "accuracy : 0.20\n",
      "\n",
      "tensor([[0.1392, 0.5173, 0.0336, 0.1320, 0.1778],\n",
      "        [0.1306, 0.0632, 0.2095, 0.4600, 0.1367],\n",
      "        [0.4272, 0.0884, 0.0932, 0.1725, 0.2187],\n",
      "        [0.0873, 0.1771, 0.2392, 0.1780, 0.3184],\n",
      "        [0.2482, 0.1564, 0.0789, 0.1905, 0.3260],\n",
      "        [0.0492, 0.1562, 0.1226, 0.0063, 0.6657],\n",
      "        [0.1162, 0.4222, 0.1532, 0.1117, 0.1967],\n",
      "        [0.4310, 0.1231, 0.2445, 0.1463, 0.0552],\n",
      "        [0.0916, 0.5081, 0.1025, 0.2693, 0.0285],\n",
      "        [0.1999, 0.6118, 0.1125, 0.0596, 0.0162]])\n",
      "tensor([0, 4, 3, 1, 4, 4, 1, 2, 1, 2])\n",
      "accuracy : 0.40\n",
      "\n",
      "tensor([[0.1214, 0.2665, 0.1274, 0.1074, 0.3772],\n",
      "        [0.0644, 0.2247, 0.0762, 0.4506, 0.1840],\n",
      "        [0.0796, 0.1474, 0.1976, 0.2599, 0.3156],\n",
      "        [0.0730, 0.0575, 0.5081, 0.0558, 0.3057],\n",
      "        [0.2516, 0.0160, 0.0997, 0.4621, 0.1706],\n",
      "        [0.0624, 0.0313, 0.0798, 0.6438, 0.1828],\n",
      "        [0.2973, 0.0861, 0.3585, 0.1067, 0.1514],\n",
      "        [0.1806, 0.0505, 0.1967, 0.2493, 0.3229],\n",
      "        [0.0757, 0.2431, 0.0335, 0.3453, 0.3023],\n",
      "        [0.0658, 0.1371, 0.0712, 0.6319, 0.0940]])\n",
      "tensor([4, 2, 0, 2, 1, 2, 3, 1, 2, 3])\n",
      "accuracy : 0.30\n",
      "\n",
      "tensor([[0.0915, 0.3722, 0.1668, 0.0877, 0.2818],\n",
      "        [0.4920, 0.0500, 0.0823, 0.0723, 0.3034],\n",
      "        [0.2821, 0.2624, 0.2859, 0.0565, 0.1131],\n",
      "        [0.3091, 0.0356, 0.1637, 0.0442, 0.4474],\n",
      "        [0.2620, 0.0124, 0.4403, 0.2752, 0.0101],\n",
      "        [0.2845, 0.1427, 0.3663, 0.0586, 0.1479],\n",
      "        [0.0190, 0.0407, 0.0851, 0.6313, 0.2238],\n",
      "        [0.0116, 0.0379, 0.0577, 0.4055, 0.4873],\n",
      "        [0.2214, 0.2344, 0.0392, 0.0495, 0.4555],\n",
      "        [0.0594, 0.0569, 0.4374, 0.0995, 0.3468]])\n",
      "tensor([1, 4, 2, 3, 2, 0, 3, 4, 0, 0])\n",
      "accuracy : 0.50\n",
      "\n",
      "tensor([[0.2770, 0.0692, 0.3255, 0.1264, 0.2019],\n",
      "        [0.3300, 0.0865, 0.1343, 0.3607, 0.0884],\n",
      "        [0.5201, 0.0452, 0.0574, 0.1184, 0.2588],\n",
      "        [0.1496, 0.0613, 0.3522, 0.3309, 0.1060],\n",
      "        [0.1706, 0.0657, 0.5598, 0.1109, 0.0929],\n",
      "        [0.6250, 0.0777, 0.0690, 0.1489, 0.0794],\n",
      "        [0.2746, 0.0306, 0.0227, 0.0342, 0.6379],\n",
      "        [0.3132, 0.0473, 0.0303, 0.4508, 0.1583],\n",
      "        [0.0356, 0.1171, 0.0363, 0.1031, 0.7078],\n",
      "        [0.1195, 0.3536, 0.3352, 0.0094, 0.1824]])\n",
      "tensor([4, 2, 4, 4, 3, 4, 1, 1, 0, 2])\n",
      "accuracy : 0.00\n",
      "\n",
      "tensor([[0.0247, 0.5001, 0.0700, 0.3631, 0.0422],\n",
      "        [0.4196, 0.3805, 0.0736, 0.0582, 0.0681],\n",
      "        [0.0339, 0.1744, 0.1556, 0.4653, 0.1708],\n",
      "        [0.0825, 0.1046, 0.2928, 0.1981, 0.3220],\n",
      "        [0.1295, 0.5034, 0.0352, 0.2109, 0.1211],\n",
      "        [0.0470, 0.0626, 0.0225, 0.7716, 0.0962],\n",
      "        [0.3727, 0.3064, 0.0823, 0.1433, 0.0953],\n",
      "        [0.0947, 0.2123, 0.1671, 0.3514, 0.1745],\n",
      "        [0.2889, 0.1083, 0.0770, 0.5071, 0.0188],\n",
      "        [0.1039, 0.2496, 0.0169, 0.4416, 0.1880]])\n",
      "tensor([2, 3, 3, 2, 0, 0, 0, 2, 2, 1])\n",
      "accuracy : 0.20\n",
      "\n",
      "tensor([[0.1462, 0.0912, 0.0204, 0.4239, 0.3182],\n",
      "        [0.4839, 0.1543, 0.2545, 0.0542, 0.0531],\n",
      "        [0.0485, 0.0841, 0.6043, 0.0987, 0.1644],\n",
      "        [0.4219, 0.0322, 0.1842, 0.0761, 0.2856],\n",
      "        [0.5795, 0.2033, 0.0334, 0.0927, 0.0912],\n",
      "        [0.4995, 0.0096, 0.1447, 0.2135, 0.1327],\n",
      "        [0.1608, 0.0941, 0.2072, 0.1504, 0.3876],\n",
      "        [0.1926, 0.0311, 0.1196, 0.5001, 0.1567],\n",
      "        [0.0256, 0.0832, 0.0732, 0.1106, 0.7074],\n",
      "        [0.4408, 0.1371, 0.0218, 0.3265, 0.0737]])\n",
      "tensor([3, 2, 3, 3, 2, 3, 1, 3, 4, 2])\n",
      "accuracy : 0.30\n",
      "\n",
      "tensor([[0.3184, 0.0237, 0.0798, 0.4360, 0.1422],\n",
      "        [0.3506, 0.2111, 0.2167, 0.1870, 0.0345],\n",
      "        [0.3074, 0.1342, 0.4724, 0.0456, 0.0404],\n",
      "        [0.0288, 0.3978, 0.1328, 0.2065, 0.2342],\n",
      "        [0.1227, 0.3824, 0.1799, 0.0713, 0.2437],\n",
      "        [0.1538, 0.4020, 0.0198, 0.3781, 0.0463],\n",
      "        [0.3887, 0.1219, 0.1484, 0.1005, 0.2405],\n",
      "        [0.0875, 0.2140, 0.1675, 0.0235, 0.5075],\n",
      "        [0.4036, 0.1537, 0.2900, 0.1422, 0.0105],\n",
      "        [0.0839, 0.1027, 0.4438, 0.3012, 0.0684]])\n",
      "tensor([3, 1, 4, 0, 4, 2, 0, 0, 1, 0])\n",
      "accuracy : 0.20\n",
      "\n",
      "tensor([[0.5490, 0.2419, 0.1077, 0.0279, 0.0734],\n",
      "        [0.6591, 0.0607, 0.1425, 0.0303, 0.1074],\n",
      "        [0.1003, 0.2401, 0.0556, 0.3648, 0.2392],\n",
      "        [0.0480, 0.0965, 0.1793, 0.2695, 0.4067],\n",
      "        [0.1273, 0.2865, 0.1591, 0.1729, 0.2542],\n",
      "        [0.1217, 0.0496, 0.3780, 0.3388, 0.1117],\n",
      "        [0.0398, 0.1052, 0.6041, 0.1421, 0.1089],\n",
      "        [0.0359, 0.4808, 0.2248, 0.0684, 0.1902],\n",
      "        [0.1266, 0.1622, 0.3250, 0.0738, 0.3124],\n",
      "        [0.0861, 0.7063, 0.1330, 0.0452, 0.0295]])\n",
      "tensor([0, 0, 4, 4, 1, 0, 0, 3, 4, 2])\n",
      "accuracy : 0.40\n",
      "\n",
      "\n",
      "final accuracy = 0.27\n"
     ]
    }
   ],
   "source": [
    "metric = torchmetrics.Accuracy(task='multiclass', num_classes=5)\n",
    "n_batches = 10\n",
    "\n",
    "for i in range(n_batches):\n",
    "    preds = torch.randn(10, 5).softmax(dim=-1)\n",
    "    target = torch.randint(high=5, size=(10,))\n",
    "    print(preds)\n",
    "    print(target)\n",
    "      \n",
    "    acc = metric(preds, target)\n",
    "    print(f\"accuracy : {acc:.2f}\")\n",
    "    print()\n",
    "    \n",
    "print()\n",
    "final_acc = metric.compute()\n",
    "print(f\"final accuracy = {final_acc:.2f}\")"
   ]
  }
 ],
 "metadata": {
  "kernelspec": {
   "display_name": "tf_gpu",
   "language": "python",
   "name": "python3"
  },
  "language_info": {
   "codemirror_mode": {
    "name": "ipython",
    "version": 3
   },
   "file_extension": ".py",
   "mimetype": "text/x-python",
   "name": "python",
   "nbconvert_exporter": "python",
   "pygments_lexer": "ipython3",
   "version": "3.9.13"
  },
  "orig_nbformat": 4
 },
 "nbformat": 4,
 "nbformat_minor": 2
}
